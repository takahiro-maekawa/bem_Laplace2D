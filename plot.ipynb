{
 "cells": [
  {
   "cell_type": "code",
   "execution_count": 11,
   "metadata": {},
   "outputs": [],
   "source": [
    "import pandas as pd\n",
    "\n",
    "df =pd.read_csv('test.csv');\n",
    "\n"
   ]
  },
  {
   "cell_type": "code",
   "execution_count": 20,
   "metadata": {},
   "outputs": [],
   "source": [
    "i_array = df[\"i\"]\n",
    "j_array = df[\"j\"]\n",
    "xs = df[\"X\"]\n",
    "ys = df[\"Y\"]\n",
    "zs = df[\"Z\"]"
   ]
  },
  {
   "cell_type": "code",
   "execution_count": 13,
   "metadata": {},
   "outputs": [
    {
     "data": {
      "text/html": [
       "<div>\n",
       "<style scoped>\n",
       "    .dataframe tbody tr th:only-of-type {\n",
       "        vertical-align: middle;\n",
       "    }\n",
       "\n",
       "    .dataframe tbody tr th {\n",
       "        vertical-align: top;\n",
       "    }\n",
       "\n",
       "    .dataframe thead th {\n",
       "        text-align: right;\n",
       "    }\n",
       "</style>\n",
       "<table border=\"1\" class=\"dataframe\">\n",
       "  <thead>\n",
       "    <tr style=\"text-align: right;\">\n",
       "      <th></th>\n",
       "      <th>i</th>\n",
       "      <th>j</th>\n",
       "      <th>X</th>\n",
       "      <th>Y</th>\n",
       "      <th>Z</th>\n",
       "    </tr>\n",
       "  </thead>\n",
       "  <tbody>\n",
       "    <tr>\n",
       "      <th>0</th>\n",
       "      <td>0</td>\n",
       "      <td>0</td>\n",
       "      <td>2.000000e+00</td>\n",
       "      <td>0.000000</td>\n",
       "      <td>4.14125</td>\n",
       "    </tr>\n",
       "    <tr>\n",
       "      <th>1</th>\n",
       "      <td>0</td>\n",
       "      <td>1</td>\n",
       "      <td>1.998380e+00</td>\n",
       "      <td>0.080532</td>\n",
       "      <td>4.14566</td>\n",
       "    </tr>\n",
       "    <tr>\n",
       "      <th>2</th>\n",
       "      <td>0</td>\n",
       "      <td>2</td>\n",
       "      <td>1.993510e+00</td>\n",
       "      <td>0.160933</td>\n",
       "      <td>4.14914</td>\n",
       "    </tr>\n",
       "    <tr>\n",
       "      <th>3</th>\n",
       "      <td>0</td>\n",
       "      <td>3</td>\n",
       "      <td>1.985420e+00</td>\n",
       "      <td>0.241073</td>\n",
       "      <td>4.15179</td>\n",
       "    </tr>\n",
       "    <tr>\n",
       "      <th>4</th>\n",
       "      <td>0</td>\n",
       "      <td>4</td>\n",
       "      <td>1.974100e+00</td>\n",
       "      <td>0.320823</td>\n",
       "      <td>4.15371</td>\n",
       "    </tr>\n",
       "    <tr>\n",
       "      <th>...</th>\n",
       "      <td>...</td>\n",
       "      <td>...</td>\n",
       "      <td>...</td>\n",
       "      <td>...</td>\n",
       "      <td>...</td>\n",
       "    </tr>\n",
       "    <tr>\n",
       "      <th>3995</th>\n",
       "      <td>99</td>\n",
       "      <td>35</td>\n",
       "      <td>8.020560e-01</td>\n",
       "      <td>4.935250</td>\n",
       "      <td>15.03900</td>\n",
       "    </tr>\n",
       "    <tr>\n",
       "      <th>3996</th>\n",
       "      <td>99</td>\n",
       "      <td>36</td>\n",
       "      <td>6.026830e-01</td>\n",
       "      <td>4.963540</td>\n",
       "      <td>15.03750</td>\n",
       "    </tr>\n",
       "    <tr>\n",
       "      <th>3997</th>\n",
       "      <td>99</td>\n",
       "      <td>37</td>\n",
       "      <td>4.023330e-01</td>\n",
       "      <td>4.983790</td>\n",
       "      <td>15.03660</td>\n",
       "    </tr>\n",
       "    <tr>\n",
       "      <th>3998</th>\n",
       "      <td>99</td>\n",
       "      <td>38</td>\n",
       "      <td>2.013300e-01</td>\n",
       "      <td>4.995940</td>\n",
       "      <td>15.03760</td>\n",
       "    </tr>\n",
       "    <tr>\n",
       "      <th>3999</th>\n",
       "      <td>99</td>\n",
       "      <td>39</td>\n",
       "      <td>-5.170580e-13</td>\n",
       "      <td>5.000000</td>\n",
       "      <td>15.04160</td>\n",
       "    </tr>\n",
       "  </tbody>\n",
       "</table>\n",
       "<p>4000 rows × 5 columns</p>\n",
       "</div>"
      ],
      "text/plain": [
       "       i   j             X         Y         Z\n",
       "0      0   0  2.000000e+00  0.000000   4.14125\n",
       "1      0   1  1.998380e+00  0.080532   4.14566\n",
       "2      0   2  1.993510e+00  0.160933   4.14914\n",
       "3      0   3  1.985420e+00  0.241073   4.15179\n",
       "4      0   4  1.974100e+00  0.320823   4.15371\n",
       "...   ..  ..           ...       ...       ...\n",
       "3995  99  35  8.020560e-01  4.935250  15.03900\n",
       "3996  99  36  6.026830e-01  4.963540  15.03750\n",
       "3997  99  37  4.023330e-01  4.983790  15.03660\n",
       "3998  99  38  2.013300e-01  4.995940  15.03760\n",
       "3999  99  39 -5.170580e-13  5.000000  15.04160\n",
       "\n",
       "[4000 rows x 5 columns]"
      ]
     },
     "execution_count": 13,
     "metadata": {},
     "output_type": "execute_result"
    }
   ],
   "source": [
    "df"
   ]
  },
  {
   "cell_type": "code",
   "execution_count": 22,
   "metadata": {},
   "outputs": [],
   "source": [
    "import numpy as np\n",
    "XX = np.zeros((100, 40))\n",
    "YY = np.zeros((100, 40))\n",
    "ZZ = np.zeros((100, 40))\n",
    "\n",
    "for i_data in range(4000):\n",
    "    i = i_array[i_data]\n",
    "    j = j_array[i_data]\n",
    "    \n",
    "    #print(i,j)\n",
    "    XX[i][j] = xs[i_data]\n",
    "    YY[i][j] = ys[i_data]\n",
    "    ZZ[i][j] = zs[i_data]"
   ]
  },
  {
   "cell_type": "code",
   "execution_count": 28,
   "metadata": {},
   "outputs": [
    {
     "data": {
      "text/plain": [
       "<matplotlib.contour.QuadContourSet at 0x7f400270b670>"
      ]
     },
     "execution_count": 28,
     "metadata": {},
     "output_type": "execute_result"
    },
    {
     "data": {
      "image/png": "[encoded data removed]",
      "text/plain": [
       "<Figure size 432x432 with 1 Axes>"
      ]
     },
     "metadata": {
      "needs_background": "light"
     },
     "output_type": "display_data"
    }
   ],
   "source": [
    "import matplotlib.pyplot as plt\n",
    "fig = plt.figure(figsize = (6,6))\n",
    "plt.contourf(XX, YY, ZZ, levels = 150)"
   ]
  },
  {
   "cell_type": "code",
   "execution_count": null,
   "metadata": {},
   "outputs": [],
   "source": []
  }
 ],
 "metadata": {
  "kernelspec": {
   "display_name": "Python 3",
   "language": "python",
   "name": "python3"
  },
  "language_info": {
   "codemirror_mode": {
    "name": "ipython",
    "version": 3
   },
   "file_extension": ".py",
   "mimetype": "text/x-python",
   "name": "python",
   "nbconvert_exporter": "python",
   "pygments_lexer": "ipython3",
   "version": "3.8.5"
  }
 },
 "nbformat": 4,
 "nbformat_minor": 4
}
